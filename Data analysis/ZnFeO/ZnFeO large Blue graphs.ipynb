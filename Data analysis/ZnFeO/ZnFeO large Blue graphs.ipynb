{
 "cells": [
  {
   "cell_type": "code",
   "execution_count": 1,
   "metadata": {},
   "outputs": [],
   "source": [
    "import numpy as np\n",
    "import matplotlib.pyplot as plt\n",
    "%matplotlib inline \n",
    "# this comand will create graphs in Jupyter notebook\n",
    "# rather than in a separate window"
   ]
  },
  {
   "cell_type": "code",
   "execution_count": 2,
   "metadata": {},
   "outputs": [],
   "source": [
    "concentration, data_y = np.loadtxt(\"ZnFeO_large_yellow.csv\", delimiter=';', unpack=True)  # upload data from a file"
   ]
  },
  {
   "cell_type": "code",
   "execution_count": 3,
   "metadata": {},
   "outputs": [],
   "source": [
    "control = np.array([24.3, 24.7, 25.3, 25, 24.6, 24.8])  # create an array of blue control temp values \n",
    "data_x = np.arange(30, 181, 30)   # create an array of time values\n",
    "#data_x = np.tile(data_x, 7)\n",
    "col = np.array([\" \",u'#1f77b4', u'#ff7f0e', u'#2ca02c', u'#d62728', u'#9467bd',  u'#e377c2', u'#7f7f7f', u'#bcbd22', u'#17becf'])  # array with colour codes for plotting\n",
    "labels = np.array([\"5\\u03BCg/ml\", \"10\\u03BCg/ml\", \"15\\u03BCg/ml\", \n",
    "                   \"20\\u03BCg/ml\", \"40\\u03BCg/ml\", \"80\\u03BCg/ml\"])"
   ]
  },
  {
   "cell_type": "code",
   "execution_count": 4,
   "metadata": {},
   "outputs": [],
   "source": [
    "# subtract the control values from the actual temperature values\n",
    "\n",
    "j = 0\n",
    "data_y_corr = np.zeros(len(data_y))\n",
    "\n",
    "# every 6 values in data_x array start subtracting from the first value\n",
    "# of the control array again \n",
    "for i in range(0, len(data_y)):\n",
    "    data_y_corr[i] = data_y[i] - control[j]\n",
    "    j += 1\n",
    "    if(j == 6):\n",
    "        j = 0"
   ]
  },
  {
   "cell_type": "code",
   "execution_count": 5,
   "metadata": {},
   "outputs": [],
   "source": [
    "# define a function that will be plotting least square fit straight lines\n",
    "def least_square_fit(data_x, data_y, j):\n",
    "    mean_x = np.mean(data_x)    # calculate mean value of x coordinates\n",
    "    mean_y = np.mean(data_y)    # calculate mean value of y coordinates\n",
    "    m = np.sum((data_y - mean_y)*data_x) / np.sum((data_x - mean_x)*data_x)\n",
    "    c = mean_y - m*mean_x\n",
    "\n",
    "    n = len(data_x)    # calculate the number of pairs of coordinates\n",
    "    D_calc = np.sum((data_x - mean_x)**2)\n",
    "    sum_d2 = np.sum((data_y - m*data_x - c)**2)\n",
    "\n",
    "    dm = np.sqrt(sum_d2 / (D_calc*(n-2)))    # calculate uncertanity in m\n",
    "    dc = np.sqrt(((1/n) + (mean_x**2/D_calc)) * (sum_d2 / (n-2)))    # calculate uncertanity in c\n",
    "    \n",
    "    # create two arrays\n",
    "    fit_x = np.linspace(np.min(data_x), np.max(data_x), 2)\n",
    "    fit_y = m * fit_x + c\n",
    "    \n",
    "    # plot the line\n",
    "    plt.plot(fit_x, fit_y, '-', color=col[j])\n",
    "    # plot the data points\n",
    "    plt.plot(data_x, plot_y, 'o', color=col[j], label = labels[j-1])"
   ]
  },
  {
   "cell_type": "code",
   "execution_count": 6,
   "metadata": {},
   "outputs": [
    {
     "data": {
      "image/png": "[encoded data removed]",
      "text/plain": [
       "<matplotlib.figure.Figure at 0x1050bb198>"
      ]
     },
     "metadata": {},
     "output_type": "display_data"
    }
   ],
   "source": [
    "plt.figure(figsize=(7,8))\n",
    " \n",
    "# plot data points 7 times\n",
    "start = 0\n",
    "end = 6\n",
    "j = 1\n",
    "\n",
    "for i in range(0, 6):\n",
    "    plot_y = data_y_corr[start:end]\n",
    "    least_square_fit(data_x, plot_y, j)\n",
    "    start = end\n",
    "    end += 6\n",
    "    j += 1\n",
    "    \n",
    "# set the graph parametres\n",
    "plt.grid(True)\n",
    "# plt.title(\"$Zn_{0.4}Fe_{2.6}O_4$ Large Nanoparticles on a Blue Membrane\")\n",
    "plt.legend(loc=\"upper right\")\n",
    "plt.xlim(0, 250)\n",
    "plt.ylim(0,30)\n",
    "plt.ylabel(\"Differential Temperature, \\u00b0C\")\n",
    "plt.xlabel(\"Time (s)\")\n",
    "plt.savefig(\"ZnFeO_large_blue.png\", dpi = 300)"
   ]
  },
  {
   "cell_type": "code",
   "execution_count": null,
   "metadata": {},
   "outputs": [],
   "source": []
  },
  {
   "cell_type": "code",
   "execution_count": null,
   "metadata": {},
   "outputs": [],
   "source": []
  },
  {
   "cell_type": "code",
   "execution_count": null,
   "metadata": {},
   "outputs": [],
   "source": []
  }
 ],
 "metadata": {
  "kernelspec": {
   "display_name": "Python 3",
   "language": "python",
   "name": "python3"
  },
  "language_info": {
   "codemirror_mode": {
    "name": "ipython",
    "version": 3
   },
   "file_extension": ".py",
   "mimetype": "text/x-python",
   "name": "python",
   "nbconvert_exporter": "python",
   "pygments_lexer": "ipython3",
   "version": "3.6.4"
  }
 },
 "nbformat": 4,
 "nbformat_minor": 2
}
